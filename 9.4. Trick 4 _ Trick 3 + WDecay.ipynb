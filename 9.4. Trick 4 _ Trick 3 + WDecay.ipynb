{
 "cells": [
  {
   "cell_type": "code",
   "execution_count": 1,
   "id": "d4e45a49-974f-4f9c-8642-42e2c45aab71",
   "metadata": {},
   "outputs": [],
   "source": [
    "# Baseline: \n",
    "# zScore Normalization\n",
    "# 4 blocks (2, 2, 3, 3)\n",
    "# ReLU, He\n",
    "# Adam _ lr=1e-3\n",
    "\n",
    "import torch\n",
    "import torchvision.transforms as transforms\n",
    "import torch.nn as nn\n",
    "import torch.nn.functional as F\n",
    "\n",
    "import numpy as np\n",
    "import matplotlib.pyplot as plt\n",
    "\n",
    "from torchvision.datasets import CIFAR10\n",
    "from torch.utils.data import DataLoader \n",
    "from torch.optim import Adam\n",
    "import torchvision\n",
    "\n",
    "torch.manual_seed(1)\n",
    "device = 'cuda' if torch.cuda.is_available() else 'cpu'"
   ]
  },
  {
   "cell_type": "code",
   "execution_count": null,
   "id": "42432066-6cf0-416b-961a-adb1e3217204",
   "metadata": {},
   "outputs": [],
   "source": []
  },
  {
   "cell_type": "markdown",
   "id": "f913360b-019e-4d69-a540-b7b5715544e1",
   "metadata": {},
   "source": [
    "## Data"
   ]
  },
  {
   "cell_type": "code",
   "execution_count": 2,
   "id": "3ad21976-2d99-49b7-b0b5-84e9ebcd371e",
   "metadata": {},
   "outputs": [
    {
     "name": "stdout",
     "output_type": "stream",
     "text": [
      "Files already downloaded and verified\n",
      "Files already downloaded and verified\n"
     ]
    }
   ],
   "source": [
    "batch_size = 256\n",
    "transform = transforms.Compose(\n",
    "    [\n",
    "        transforms.ToTensor(),\n",
    "        transforms.Normalize([0.4914, 0.4822, 0.4465], \n",
    "                             [0.2470, 0.2435, 0.2616])\n",
    "    ])\n",
    "\n",
    "train_set = CIFAR10(\n",
    "    root='./data', \n",
    "    train=True,\n",
    "    download=True, \n",
    "    transform=transform\n",
    ")\n",
    "\n",
    "val_set = CIFAR10(\n",
    "    root='./data', \n",
    "    train=False,\n",
    "    download=True, \n",
    "    transform=transform\n",
    ")\n",
    "\n",
    "trainloader = DataLoader(\n",
    "    train_set, \n",
    "    batch_size=batch_size,\n",
    "    shuffle=True,\n",
    "    num_workers=4\n",
    ")\n",
    "\n",
    "testloader = DataLoader(\n",
    "    val_set, \n",
    "    batch_size=batch_size,\n",
    "    shuffle=False, \n",
    "    num_workers=4\n",
    ")"
   ]
  },
  {
   "cell_type": "code",
   "execution_count": null,
   "id": "cf229497-4b6e-443d-b330-66b6fa139fcd",
   "metadata": {},
   "outputs": [],
   "source": []
  },
  {
   "cell_type": "markdown",
   "id": "6ea0dde8-29e7-4096-bd15-6a5ed74655f0",
   "metadata": {},
   "source": [
    "## Model"
   ]
  },
  {
   "cell_type": "code",
   "execution_count": 3,
   "id": "667fc692-e195-4fe1-94c0-1fda94be7849",
   "metadata": {},
   "outputs": [],
   "source": [
    "class CNNModel(nn.Module):\n",
    "    def __init__(self, n_classes=10, dropout_rate=0.3):\n",
    "        super(CNNModel, self).__init__()\n",
    "        self.conv_layer1 = nn.Sequential(\n",
    "            nn.Conv2d(3, 32, 3, stride=1, padding='same'),            \n",
    "            nn.ReLU(),\n",
    "            nn.BatchNorm2d(32)\n",
    "        )\n",
    "        self.conv_layer2 = nn.Sequential(\n",
    "            nn.Conv2d(32, 32, 3, stride=1, padding='same'),\n",
    "            nn.ReLU(),\n",
    "            nn.BatchNorm2d(32),\n",
    "            nn.MaxPool2d(2, 2),\n",
    "            nn.Dropout(dropout_rate)  # Dropout after layer 2\n",
    "        )\n",
    "        \n",
    "        self.conv_layer3 = nn.Sequential(\n",
    "            nn.Conv2d(32, 64, 3, stride=1, padding='same'),\n",
    "            nn.ReLU(),\n",
    "            nn.BatchNorm2d(64)\n",
    "        )\n",
    "        self.conv_layer4 = nn.Sequential(\n",
    "            nn.Conv2d(64, 64, 3, stride=1, padding='same'),\n",
    "            nn.ReLU(),\n",
    "            nn.BatchNorm2d(64),\n",
    "            nn.MaxPool2d(2, 2),\n",
    "            nn.Dropout(dropout_rate)  # Dropout after layer 4\n",
    "        )\n",
    "\n",
    "        self.conv_layer5 = nn.Sequential(\n",
    "            nn.Conv2d(64, 128, 3, stride=1, padding='same'),\n",
    "            nn.ReLU(),\n",
    "            nn.BatchNorm2d(128)\n",
    "        )\n",
    "        self.conv_layer6 = nn.Sequential(\n",
    "            nn.Conv2d(128, 128, 3, stride=1, padding='same'),\n",
    "            nn.ReLU(),\n",
    "            nn.BatchNorm2d(128)\n",
    "        )\n",
    "        self.conv_layer7 = nn.Sequential(\n",
    "            nn.Conv2d(128, 128, 3, stride=1, padding='same'),\n",
    "            nn.ReLU(),\n",
    "            nn.BatchNorm2d(128),\n",
    "            nn.MaxPool2d(2, 2),\n",
    "            nn.Dropout(dropout_rate)  # Dropout after layer 7\n",
    "        )\n",
    "\n",
    "        self.conv_layer8 = nn.Sequential(\n",
    "            nn.Conv2d(128, 256, 3, stride=1, padding='same'),\n",
    "            nn.ReLU(),\n",
    "            nn.BatchNorm2d(256)\n",
    "        )\n",
    "        self.conv_layer9 = nn.Sequential(\n",
    "            nn.Conv2d(256, 256, 3, stride=1, padding='same'),\n",
    "            nn.ReLU(),\n",
    "            nn.BatchNorm2d(256)\n",
    "        )\n",
    "        self.conv_layer10 = nn.Sequential(\n",
    "            nn.Conv2d(256, 256, 3, stride=1, padding='same'),\n",
    "            nn.ReLU(),\n",
    "            nn.BatchNorm2d(256),\n",
    "            nn.MaxPool2d(2, 2),\n",
    "            nn.Dropout(dropout_rate)  # Dropout after layer 10\n",
    "        )\n",
    "\n",
    "        self.classifier = nn.Sequential(\n",
    "            nn.Flatten(),\n",
    "            nn.Linear(256*2*2, 512),\n",
    "            nn.ReLU(),\n",
    "            nn.Linear(512, n_classes)\n",
    "        )\n",
    "    \n",
    "    def forward(self, x):\n",
    "        x = self.conv_layer1(x)\n",
    "        x = self.conv_layer2(x)\n",
    "        x = self.conv_layer3(x)\n",
    "        x = self.conv_layer4(x)\n",
    "        x = self.conv_layer5(x)\n",
    "        x = self.conv_layer6(x)\n",
    "        x = self.conv_layer7(x)\n",
    "        x = self.conv_layer8(x)\n",
    "        x = self.conv_layer9(x)\n",
    "        x = self.conv_layer10(x)\n",
    "        out = self.classifier(x)\n",
    "\n",
    "        return out"
   ]
  },
  {
   "cell_type": "code",
   "execution_count": 4,
   "id": "81be3191-980a-4b94-8537-5dba83109866",
   "metadata": {},
   "outputs": [
    {
     "name": "stdout",
     "output_type": "stream",
     "text": [
      "CNNModel(\n",
      "  (conv_layer1): Sequential(\n",
      "    (0): Conv2d(3, 32, kernel_size=(3, 3), stride=(1, 1), padding=same)\n",
      "    (1): ReLU()\n",
      "    (2): BatchNorm2d(32, eps=1e-05, momentum=0.1, affine=True, track_running_stats=True)\n",
      "  )\n",
      "  (conv_layer2): Sequential(\n",
      "    (0): Conv2d(32, 32, kernel_size=(3, 3), stride=(1, 1), padding=same)\n",
      "    (1): ReLU()\n",
      "    (2): BatchNorm2d(32, eps=1e-05, momentum=0.1, affine=True, track_running_stats=True)\n",
      "    (3): MaxPool2d(kernel_size=2, stride=2, padding=0, dilation=1, ceil_mode=False)\n",
      "    (4): Dropout(p=0.3, inplace=False)\n",
      "  )\n",
      "  (conv_layer3): Sequential(\n",
      "    (0): Conv2d(32, 64, kernel_size=(3, 3), stride=(1, 1), padding=same)\n",
      "    (1): ReLU()\n",
      "    (2): BatchNorm2d(64, eps=1e-05, momentum=0.1, affine=True, track_running_stats=True)\n",
      "  )\n",
      "  (conv_layer4): Sequential(\n",
      "    (0): Conv2d(64, 64, kernel_size=(3, 3), stride=(1, 1), padding=same)\n",
      "    (1): ReLU()\n",
      "    (2): BatchNorm2d(64, eps=1e-05, momentum=0.1, affine=True, track_running_stats=True)\n",
      "    (3): MaxPool2d(kernel_size=2, stride=2, padding=0, dilation=1, ceil_mode=False)\n",
      "    (4): Dropout(p=0.3, inplace=False)\n",
      "  )\n",
      "  (conv_layer5): Sequential(\n",
      "    (0): Conv2d(64, 128, kernel_size=(3, 3), stride=(1, 1), padding=same)\n",
      "    (1): ReLU()\n",
      "    (2): BatchNorm2d(128, eps=1e-05, momentum=0.1, affine=True, track_running_stats=True)\n",
      "  )\n",
      "  (conv_layer6): Sequential(\n",
      "    (0): Conv2d(128, 128, kernel_size=(3, 3), stride=(1, 1), padding=same)\n",
      "    (1): ReLU()\n",
      "    (2): BatchNorm2d(128, eps=1e-05, momentum=0.1, affine=True, track_running_stats=True)\n",
      "  )\n",
      "  (conv_layer7): Sequential(\n",
      "    (0): Conv2d(128, 128, kernel_size=(3, 3), stride=(1, 1), padding=same)\n",
      "    (1): ReLU()\n",
      "    (2): BatchNorm2d(128, eps=1e-05, momentum=0.1, affine=True, track_running_stats=True)\n",
      "    (3): MaxPool2d(kernel_size=2, stride=2, padding=0, dilation=1, ceil_mode=False)\n",
      "    (4): Dropout(p=0.3, inplace=False)\n",
      "  )\n",
      "  (conv_layer8): Sequential(\n",
      "    (0): Conv2d(128, 256, kernel_size=(3, 3), stride=(1, 1), padding=same)\n",
      "    (1): ReLU()\n",
      "    (2): BatchNorm2d(256, eps=1e-05, momentum=0.1, affine=True, track_running_stats=True)\n",
      "  )\n",
      "  (conv_layer9): Sequential(\n",
      "    (0): Conv2d(256, 256, kernel_size=(3, 3), stride=(1, 1), padding=same)\n",
      "    (1): ReLU()\n",
      "    (2): BatchNorm2d(256, eps=1e-05, momentum=0.1, affine=True, track_running_stats=True)\n",
      "  )\n",
      "  (conv_layer10): Sequential(\n",
      "    (0): Conv2d(256, 256, kernel_size=(3, 3), stride=(1, 1), padding=same)\n",
      "    (1): ReLU()\n",
      "    (2): BatchNorm2d(256, eps=1e-05, momentum=0.1, affine=True, track_running_stats=True)\n",
      "    (3): MaxPool2d(kernel_size=2, stride=2, padding=0, dilation=1, ceil_mode=False)\n",
      "    (4): Dropout(p=0.3, inplace=False)\n",
      "  )\n",
      "  (classifier): Sequential(\n",
      "    (0): Flatten(start_dim=1, end_dim=-1)\n",
      "    (1): Linear(in_features=1024, out_features=512, bias=True)\n",
      "    (2): ReLU()\n",
      "    (3): Linear(in_features=512, out_features=10, bias=True)\n",
      "  )\n",
      ")\n"
     ]
    }
   ],
   "source": [
    "model = CNNModel(10)\n",
    "model.to(device)\n",
    "print(model)"
   ]
  },
  {
   "cell_type": "code",
   "execution_count": null,
   "id": "c8516821-d41b-42a8-9e51-ddfb8f9ec87e",
   "metadata": {},
   "outputs": [],
   "source": []
  },
  {
   "cell_type": "markdown",
   "id": "43c7b151-a199-4e2a-8015-fdfb5f166284",
   "metadata": {},
   "source": [
    "# Train"
   ]
  },
  {
   "cell_type": "code",
   "execution_count": 5,
   "id": "1464e2bd-b627-475d-9941-f2a930d69a14",
   "metadata": {},
   "outputs": [],
   "source": [
    "criterion = nn.CrossEntropyLoss()\n",
    "optimizer = Adam(model.parameters(), lr=1e-3, weight_decay=5e-4)  "
   ]
  },
  {
   "cell_type": "code",
   "execution_count": 6,
   "id": "04744c84-1e6d-4bfb-8dd5-abbdc91f102e",
   "metadata": {},
   "outputs": [],
   "source": [
    "# Function to compute loss and accuracy for test set\n",
    "def evaluate(model, testloader, criterion):\n",
    "    model.eval()\n",
    "    test_loss = 0.0\n",
    "    running_correct = 0\n",
    "    total = 0\n",
    "    with torch.no_grad():\n",
    "        for images, labels in testloader:\n",
    "            # Move inputs and labels to the device\n",
    "            images, labels = images.to(device), labels.to(device)\n",
    "\n",
    "            outputs = model(images)\n",
    "            loss = criterion(outputs, labels)\n",
    "            test_loss += loss.item()\n",
    "            \n",
    "            _, predicted = torch.max(outputs.data, 1)\n",
    "            total += labels.size(0)\n",
    "            running_correct += (predicted == labels).sum().item()\n",
    "\n",
    "    accuracy = 100 * running_correct / total\n",
    "    test_loss = test_loss / len(testloader)\n",
    "    return test_loss, accuracy"
   ]
  },
  {
   "cell_type": "code",
   "execution_count": 7,
   "id": "f2402591-e7f7-4bdd-8962-c029cfcd9307",
   "metadata": {},
   "outputs": [],
   "source": [
    "# some parameter\n",
    "train_losses = []\n",
    "train_accuracies = []\n",
    "test_losses = []\n",
    "test_accuracies = []\n",
    "max_epoch = 150"
   ]
  },
  {
   "cell_type": "code",
   "execution_count": 8,
   "id": "190a58e1-0864-4818-a8d2-0f83212c6d13",
   "metadata": {},
   "outputs": [
    {
     "name": "stdout",
     "output_type": "stream",
     "text": [
      "Epoch [1/150], Loss: 1.4650, Accuracy: 46.26%, Test Loss: 1.2031, Test Accuracy: 57.45%\n",
      "Epoch [2/150], Loss: 0.9905, Accuracy: 64.71%, Test Loss: 0.8894, Test Accuracy: 68.92%\n",
      "Epoch [3/150], Loss: 0.7930, Accuracy: 72.12%, Test Loss: 0.7161, Test Accuracy: 75.20%\n",
      "Epoch [4/150], Loss: 0.6897, Accuracy: 76.02%, Test Loss: 0.6912, Test Accuracy: 76.54%\n",
      "Epoch [5/150], Loss: 0.6152, Accuracy: 78.65%, Test Loss: 0.6474, Test Accuracy: 77.57%\n",
      "Epoch [6/150], Loss: 0.5604, Accuracy: 80.78%, Test Loss: 0.5782, Test Accuracy: 80.57%\n",
      "Epoch [7/150], Loss: 0.5169, Accuracy: 82.17%, Test Loss: 0.5498, Test Accuracy: 81.62%\n",
      "Epoch [8/150], Loss: 0.4793, Accuracy: 83.49%, Test Loss: 0.5442, Test Accuracy: 81.88%\n",
      "Epoch [9/150], Loss: 0.4467, Accuracy: 84.77%, Test Loss: 0.5233, Test Accuracy: 82.79%\n",
      "Epoch [10/150], Loss: 0.4236, Accuracy: 85.44%, Test Loss: 0.4968, Test Accuracy: 83.48%\n",
      "Epoch [11/150], Loss: 0.3983, Accuracy: 86.33%, Test Loss: 0.5054, Test Accuracy: 83.50%\n",
      "Epoch [12/150], Loss: 0.3764, Accuracy: 86.99%, Test Loss: 0.5215, Test Accuracy: 83.20%\n",
      "Epoch [13/150], Loss: 0.3662, Accuracy: 87.39%, Test Loss: 0.4868, Test Accuracy: 84.59%\n",
      "Epoch [14/150], Loss: 0.3474, Accuracy: 87.97%, Test Loss: 0.4855, Test Accuracy: 84.96%\n",
      "Epoch [15/150], Loss: 0.3364, Accuracy: 88.39%, Test Loss: 0.5066, Test Accuracy: 84.16%\n",
      "Epoch [16/150], Loss: 0.3206, Accuracy: 88.99%, Test Loss: 0.4905, Test Accuracy: 84.41%\n",
      "Epoch [17/150], Loss: 0.3061, Accuracy: 89.45%, Test Loss: 0.4842, Test Accuracy: 84.30%\n",
      "Epoch [18/150], Loss: 0.2972, Accuracy: 89.96%, Test Loss: 0.4937, Test Accuracy: 84.38%\n",
      "Epoch [19/150], Loss: 0.2876, Accuracy: 90.19%, Test Loss: 0.4955, Test Accuracy: 83.96%\n",
      "Epoch [20/150], Loss: 0.2806, Accuracy: 90.31%, Test Loss: 0.4718, Test Accuracy: 85.19%\n",
      "Epoch [21/150], Loss: 0.2730, Accuracy: 90.52%, Test Loss: 0.4866, Test Accuracy: 85.01%\n",
      "Epoch [22/150], Loss: 0.2655, Accuracy: 91.00%, Test Loss: 0.4774, Test Accuracy: 85.23%\n",
      "Epoch [23/150], Loss: 0.2633, Accuracy: 90.81%, Test Loss: 0.4632, Test Accuracy: 85.83%\n",
      "Epoch [24/150], Loss: 0.2525, Accuracy: 91.33%, Test Loss: 0.4563, Test Accuracy: 86.25%\n",
      "Epoch [25/150], Loss: 0.2499, Accuracy: 91.39%, Test Loss: 0.4665, Test Accuracy: 85.84%\n",
      "Epoch [26/150], Loss: 0.2405, Accuracy: 91.63%, Test Loss: 0.4588, Test Accuracy: 86.22%\n",
      "Epoch [27/150], Loss: 0.2333, Accuracy: 91.90%, Test Loss: 0.4793, Test Accuracy: 85.64%\n",
      "Epoch [28/150], Loss: 0.2309, Accuracy: 92.04%, Test Loss: 0.4566, Test Accuracy: 86.14%\n",
      "Epoch [29/150], Loss: 0.2212, Accuracy: 92.43%, Test Loss: 0.4549, Test Accuracy: 86.28%\n",
      "Epoch [30/150], Loss: 0.2232, Accuracy: 92.23%, Test Loss: 0.4879, Test Accuracy: 86.00%\n",
      "Epoch [31/150], Loss: 0.2212, Accuracy: 92.35%, Test Loss: 0.4811, Test Accuracy: 85.46%\n",
      "Epoch [32/150], Loss: 0.2179, Accuracy: 92.49%, Test Loss: 0.4450, Test Accuracy: 86.36%\n",
      "Epoch [33/150], Loss: 0.2086, Accuracy: 92.72%, Test Loss: 0.4900, Test Accuracy: 85.87%\n",
      "Epoch [34/150], Loss: 0.2079, Accuracy: 92.75%, Test Loss: 0.4773, Test Accuracy: 85.62%\n",
      "Epoch [35/150], Loss: 0.2017, Accuracy: 93.05%, Test Loss: 0.4828, Test Accuracy: 86.04%\n",
      "Epoch [36/150], Loss: 0.2058, Accuracy: 92.97%, Test Loss: 0.4801, Test Accuracy: 85.41%\n",
      "Epoch [37/150], Loss: 0.2050, Accuracy: 92.95%, Test Loss: 0.4692, Test Accuracy: 86.14%\n",
      "Epoch [38/150], Loss: 0.1973, Accuracy: 93.07%, Test Loss: 0.4771, Test Accuracy: 85.89%\n",
      "Epoch [39/150], Loss: 0.2006, Accuracy: 93.19%, Test Loss: 0.4589, Test Accuracy: 86.64%\n",
      "Epoch [40/150], Loss: 0.1897, Accuracy: 93.50%, Test Loss: 0.4816, Test Accuracy: 86.14%\n",
      "Epoch [41/150], Loss: 0.1953, Accuracy: 93.24%, Test Loss: 0.4681, Test Accuracy: 85.90%\n",
      "Epoch [42/150], Loss: 0.1880, Accuracy: 93.50%, Test Loss: 0.4786, Test Accuracy: 86.02%\n",
      "Epoch [43/150], Loss: 0.1905, Accuracy: 93.44%, Test Loss: 0.4701, Test Accuracy: 86.53%\n",
      "Epoch [44/150], Loss: 0.1856, Accuracy: 93.61%, Test Loss: 0.4765, Test Accuracy: 86.40%\n",
      "Epoch [45/150], Loss: 0.1859, Accuracy: 93.66%, Test Loss: 0.4815, Test Accuracy: 86.64%\n",
      "Epoch [46/150], Loss: 0.1878, Accuracy: 93.60%, Test Loss: 0.4710, Test Accuracy: 86.78%\n",
      "Epoch [47/150], Loss: 0.1816, Accuracy: 93.64%, Test Loss: 0.4317, Test Accuracy: 87.12%\n",
      "Epoch [48/150], Loss: 0.1838, Accuracy: 93.68%, Test Loss: 0.4741, Test Accuracy: 86.14%\n",
      "Epoch [49/150], Loss: 0.1793, Accuracy: 93.81%, Test Loss: 0.4546, Test Accuracy: 86.81%\n",
      "Epoch [50/150], Loss: 0.1743, Accuracy: 93.93%, Test Loss: 0.4914, Test Accuracy: 85.99%\n",
      "Epoch [51/150], Loss: 0.1871, Accuracy: 93.70%, Test Loss: 0.4785, Test Accuracy: 86.47%\n",
      "Epoch [52/150], Loss: 0.1780, Accuracy: 93.73%, Test Loss: 0.4786, Test Accuracy: 86.83%\n",
      "Epoch [53/150], Loss: 0.1777, Accuracy: 93.93%, Test Loss: 0.4540, Test Accuracy: 86.68%\n",
      "Epoch [54/150], Loss: 0.1703, Accuracy: 94.15%, Test Loss: 0.4927, Test Accuracy: 86.28%\n",
      "Epoch [55/150], Loss: 0.1766, Accuracy: 93.88%, Test Loss: 0.4752, Test Accuracy: 86.76%\n",
      "Epoch [56/150], Loss: 0.1735, Accuracy: 93.98%, Test Loss: 0.4779, Test Accuracy: 86.69%\n",
      "Epoch [57/150], Loss: 0.1720, Accuracy: 94.10%, Test Loss: 0.4672, Test Accuracy: 86.57%\n",
      "Epoch [58/150], Loss: 0.1762, Accuracy: 93.90%, Test Loss: 0.4841, Test Accuracy: 86.50%\n",
      "Epoch [59/150], Loss: 0.1712, Accuracy: 94.21%, Test Loss: 0.4654, Test Accuracy: 86.94%\n",
      "Epoch [60/150], Loss: 0.1619, Accuracy: 94.52%, Test Loss: 0.4551, Test Accuracy: 86.68%\n",
      "Epoch [61/150], Loss: 0.1687, Accuracy: 94.17%, Test Loss: 0.4519, Test Accuracy: 86.82%\n",
      "Epoch [62/150], Loss: 0.1667, Accuracy: 94.30%, Test Loss: 0.4528, Test Accuracy: 86.64%\n",
      "Epoch [63/150], Loss: 0.1693, Accuracy: 94.12%, Test Loss: 0.4656, Test Accuracy: 86.51%\n",
      "Epoch [64/150], Loss: 0.1685, Accuracy: 94.29%, Test Loss: 0.4720, Test Accuracy: 86.35%\n",
      "Epoch [65/150], Loss: 0.1665, Accuracy: 94.23%, Test Loss: 0.4732, Test Accuracy: 86.75%\n",
      "Epoch [66/150], Loss: 0.1646, Accuracy: 94.37%, Test Loss: 0.4675, Test Accuracy: 86.85%\n",
      "Epoch [67/150], Loss: 0.1659, Accuracy: 94.24%, Test Loss: 0.4748, Test Accuracy: 86.77%\n",
      "Epoch [68/150], Loss: 0.1598, Accuracy: 94.46%, Test Loss: 0.4616, Test Accuracy: 86.94%\n",
      "Epoch [69/150], Loss: 0.1625, Accuracy: 94.46%, Test Loss: 0.4677, Test Accuracy: 86.34%\n",
      "Epoch [70/150], Loss: 0.1579, Accuracy: 94.56%, Test Loss: 0.4676, Test Accuracy: 86.34%\n",
      "Epoch [71/150], Loss: 0.1579, Accuracy: 94.54%, Test Loss: 0.4736, Test Accuracy: 86.60%\n",
      "Epoch [72/150], Loss: 0.1693, Accuracy: 94.27%, Test Loss: 0.4656, Test Accuracy: 86.73%\n",
      "Epoch [73/150], Loss: 0.1604, Accuracy: 94.46%, Test Loss: 0.4742, Test Accuracy: 86.74%\n",
      "Epoch [74/150], Loss: 0.1613, Accuracy: 94.45%, Test Loss: 0.4629, Test Accuracy: 86.70%\n",
      "Epoch [75/150], Loss: 0.1520, Accuracy: 94.74%, Test Loss: 0.5056, Test Accuracy: 86.35%\n",
      "Epoch [76/150], Loss: 0.1634, Accuracy: 94.25%, Test Loss: 0.4643, Test Accuracy: 86.79%\n",
      "Epoch [77/150], Loss: 0.1554, Accuracy: 94.52%, Test Loss: 0.4861, Test Accuracy: 86.61%\n",
      "Epoch [78/150], Loss: 0.1630, Accuracy: 94.36%, Test Loss: 0.4508, Test Accuracy: 87.20%\n",
      "Epoch [79/150], Loss: 0.1616, Accuracy: 94.52%, Test Loss: 0.4561, Test Accuracy: 87.52%\n",
      "Epoch [80/150], Loss: 0.1526, Accuracy: 94.78%, Test Loss: 0.4873, Test Accuracy: 86.61%\n",
      "Epoch [81/150], Loss: 0.1571, Accuracy: 94.53%, Test Loss: 0.4633, Test Accuracy: 87.02%\n",
      "Epoch [82/150], Loss: 0.1536, Accuracy: 94.74%, Test Loss: 0.4734, Test Accuracy: 86.68%\n",
      "Epoch [83/150], Loss: 0.1537, Accuracy: 94.64%, Test Loss: 0.4477, Test Accuracy: 87.33%\n",
      "Epoch [84/150], Loss: 0.1561, Accuracy: 94.56%, Test Loss: 0.4611, Test Accuracy: 86.68%\n",
      "Epoch [85/150], Loss: 0.1544, Accuracy: 94.67%, Test Loss: 0.4583, Test Accuracy: 87.08%\n",
      "Epoch [86/150], Loss: 0.1532, Accuracy: 94.71%, Test Loss: 0.4380, Test Accuracy: 87.38%\n",
      "Epoch [87/150], Loss: 0.1500, Accuracy: 94.67%, Test Loss: 0.4643, Test Accuracy: 87.04%\n",
      "Epoch [88/150], Loss: 0.1548, Accuracy: 94.66%, Test Loss: 0.4863, Test Accuracy: 86.46%\n",
      "Epoch [89/150], Loss: 0.1569, Accuracy: 94.58%, Test Loss: 0.4571, Test Accuracy: 86.71%\n",
      "Epoch [90/150], Loss: 0.1502, Accuracy: 94.81%, Test Loss: 0.4641, Test Accuracy: 86.87%\n",
      "Epoch [91/150], Loss: 0.1510, Accuracy: 94.83%, Test Loss: 0.4725, Test Accuracy: 86.42%\n",
      "Epoch [92/150], Loss: 0.1544, Accuracy: 94.69%, Test Loss: 0.4703, Test Accuracy: 86.61%\n",
      "Epoch [93/150], Loss: 0.1556, Accuracy: 94.63%, Test Loss: 0.4415, Test Accuracy: 87.25%\n",
      "Epoch [94/150], Loss: 0.1465, Accuracy: 95.11%, Test Loss: 0.4680, Test Accuracy: 86.88%\n",
      "Epoch [95/150], Loss: 0.1510, Accuracy: 94.78%, Test Loss: 0.4839, Test Accuracy: 86.39%\n",
      "Epoch [96/150], Loss: 0.1510, Accuracy: 94.79%, Test Loss: 0.4583, Test Accuracy: 86.91%\n",
      "Epoch [97/150], Loss: 0.1539, Accuracy: 94.76%, Test Loss: 0.4903, Test Accuracy: 86.08%\n",
      "Epoch [98/150], Loss: 0.1515, Accuracy: 94.73%, Test Loss: 0.4546, Test Accuracy: 87.29%\n",
      "Epoch [99/150], Loss: 0.1486, Accuracy: 94.92%, Test Loss: 0.4720, Test Accuracy: 87.12%\n",
      "Epoch [100/150], Loss: 0.1525, Accuracy: 94.75%, Test Loss: 0.4755, Test Accuracy: 86.85%\n",
      "Epoch [101/150], Loss: 0.1525, Accuracy: 94.75%, Test Loss: 0.4615, Test Accuracy: 87.05%\n",
      "Epoch [102/150], Loss: 0.1500, Accuracy: 94.84%, Test Loss: 0.4530, Test Accuracy: 86.95%\n",
      "Epoch [103/150], Loss: 0.1542, Accuracy: 94.65%, Test Loss: 0.4726, Test Accuracy: 86.46%\n",
      "Epoch [104/150], Loss: 0.1482, Accuracy: 94.90%, Test Loss: 0.4596, Test Accuracy: 86.61%\n",
      "Epoch [105/150], Loss: 0.1467, Accuracy: 94.98%, Test Loss: 0.4736, Test Accuracy: 86.77%\n",
      "Epoch [106/150], Loss: 0.1454, Accuracy: 95.07%, Test Loss: 0.4727, Test Accuracy: 86.95%\n",
      "Epoch [107/150], Loss: 0.1512, Accuracy: 94.92%, Test Loss: 0.4390, Test Accuracy: 87.02%\n",
      "Epoch [108/150], Loss: 0.1445, Accuracy: 95.10%, Test Loss: 0.4943, Test Accuracy: 86.29%\n",
      "Epoch [109/150], Loss: 0.1469, Accuracy: 94.91%, Test Loss: 0.4928, Test Accuracy: 86.69%\n",
      "Epoch [110/150], Loss: 0.1485, Accuracy: 94.91%, Test Loss: 0.4695, Test Accuracy: 87.14%\n",
      "Epoch [111/150], Loss: 0.1438, Accuracy: 95.06%, Test Loss: 0.4773, Test Accuracy: 86.74%\n",
      "Epoch [112/150], Loss: 0.1454, Accuracy: 95.05%, Test Loss: 0.4741, Test Accuracy: 87.03%\n",
      "Epoch [113/150], Loss: 0.1473, Accuracy: 94.83%, Test Loss: 0.4800, Test Accuracy: 86.74%\n",
      "Epoch [114/150], Loss: 0.1445, Accuracy: 95.01%, Test Loss: 0.4914, Test Accuracy: 86.69%\n",
      "Epoch [115/150], Loss: 0.1501, Accuracy: 94.79%, Test Loss: 0.4456, Test Accuracy: 87.48%\n",
      "Epoch [116/150], Loss: 0.1460, Accuracy: 94.82%, Test Loss: 0.5057, Test Accuracy: 86.61%\n",
      "Epoch [117/150], Loss: 0.1431, Accuracy: 95.12%, Test Loss: 0.4664, Test Accuracy: 87.42%\n",
      "Epoch [118/150], Loss: 0.1419, Accuracy: 95.05%, Test Loss: 0.4694, Test Accuracy: 87.01%\n",
      "Epoch [119/150], Loss: 0.1480, Accuracy: 94.81%, Test Loss: 0.4813, Test Accuracy: 86.60%\n",
      "Epoch [120/150], Loss: 0.1425, Accuracy: 95.12%, Test Loss: 0.4656, Test Accuracy: 86.82%\n",
      "Epoch [121/150], Loss: 0.1431, Accuracy: 95.08%, Test Loss: 0.4655, Test Accuracy: 87.11%\n",
      "Epoch [122/150], Loss: 0.1434, Accuracy: 95.08%, Test Loss: 0.4694, Test Accuracy: 87.22%\n",
      "Epoch [123/150], Loss: 0.1479, Accuracy: 94.93%, Test Loss: 0.4579, Test Accuracy: 87.03%\n",
      "Epoch [124/150], Loss: 0.1386, Accuracy: 95.19%, Test Loss: 0.4627, Test Accuracy: 87.02%\n",
      "Epoch [125/150], Loss: 0.1470, Accuracy: 94.93%, Test Loss: 0.4628, Test Accuracy: 87.07%\n",
      "Epoch [126/150], Loss: 0.1424, Accuracy: 95.20%, Test Loss: 0.4823, Test Accuracy: 87.12%\n",
      "Epoch [127/150], Loss: 0.1405, Accuracy: 95.13%, Test Loss: 0.4664, Test Accuracy: 86.91%\n",
      "Epoch [128/150], Loss: 0.1435, Accuracy: 95.20%, Test Loss: 0.4673, Test Accuracy: 87.13%\n",
      "Epoch [129/150], Loss: 0.1469, Accuracy: 95.03%, Test Loss: 0.4426, Test Accuracy: 87.37%\n",
      "Epoch [130/150], Loss: 0.1446, Accuracy: 95.01%, Test Loss: 0.4529, Test Accuracy: 87.17%\n",
      "Epoch [131/150], Loss: 0.1453, Accuracy: 95.02%, Test Loss: 0.4546, Test Accuracy: 86.84%\n",
      "Epoch [132/150], Loss: 0.1465, Accuracy: 94.99%, Test Loss: 0.4452, Test Accuracy: 87.34%\n",
      "Epoch [133/150], Loss: 0.1446, Accuracy: 95.04%, Test Loss: 0.4546, Test Accuracy: 87.28%\n",
      "Epoch [134/150], Loss: 0.1430, Accuracy: 95.13%, Test Loss: 0.4645, Test Accuracy: 86.84%\n",
      "Epoch [135/150], Loss: 0.1428, Accuracy: 95.11%, Test Loss: 0.4291, Test Accuracy: 87.76%\n",
      "Epoch [136/150], Loss: 0.1385, Accuracy: 95.33%, Test Loss: 0.4410, Test Accuracy: 87.49%\n",
      "Epoch [137/150], Loss: 0.1430, Accuracy: 95.11%, Test Loss: 0.4434, Test Accuracy: 87.30%\n",
      "Epoch [138/150], Loss: 0.1429, Accuracy: 95.25%, Test Loss: 0.4580, Test Accuracy: 87.01%\n",
      "Epoch [139/150], Loss: 0.1411, Accuracy: 95.14%, Test Loss: 0.4704, Test Accuracy: 87.29%\n",
      "Epoch [140/150], Loss: 0.1403, Accuracy: 95.11%, Test Loss: 0.4789, Test Accuracy: 87.07%\n",
      "Epoch [141/150], Loss: 0.1382, Accuracy: 95.15%, Test Loss: 0.4751, Test Accuracy: 87.25%\n",
      "Epoch [142/150], Loss: 0.1382, Accuracy: 95.29%, Test Loss: 0.4758, Test Accuracy: 87.26%\n",
      "Epoch [143/150], Loss: 0.1444, Accuracy: 95.03%, Test Loss: 0.4547, Test Accuracy: 87.41%\n",
      "Epoch [144/150], Loss: 0.1407, Accuracy: 95.10%, Test Loss: 0.4538, Test Accuracy: 87.25%\n",
      "Epoch [145/150], Loss: 0.1390, Accuracy: 95.27%, Test Loss: 0.4563, Test Accuracy: 87.47%\n",
      "Epoch [146/150], Loss: 0.1438, Accuracy: 95.05%, Test Loss: 0.4735, Test Accuracy: 87.25%\n",
      "Epoch [147/150], Loss: 0.1423, Accuracy: 95.13%, Test Loss: 0.4532, Test Accuracy: 87.33%\n",
      "Epoch [148/150], Loss: 0.1348, Accuracy: 95.30%, Test Loss: 0.4684, Test Accuracy: 86.97%\n",
      "Epoch [149/150], Loss: 0.1376, Accuracy: 95.14%, Test Loss: 0.4900, Test Accuracy: 86.82%\n",
      "Epoch [150/150], Loss: 0.1410, Accuracy: 95.19%, Test Loss: 0.4547, Test Accuracy: 87.49%\n"
     ]
    }
   ],
   "source": [
    "# train\n",
    "for epoch in range(max_epoch):\n",
    "    model.train()\n",
    "    running_loss = 0.0\n",
    "    running_correct = 0   # to track number of correct predictions\n",
    "    total = 0             # to track total number of samples\n",
    "\n",
    "    for i, (inputs, labels) in enumerate(trainloader, 0):\n",
    "        # Move inputs and labels to the device\n",
    "        inputs, labels = inputs.to(device), labels.to(device)\n",
    "\n",
    "        # Zero the parameter gradients\n",
    "        optimizer.zero_grad()\n",
    "\n",
    "        # Forward pass\n",
    "        outputs = model(inputs)\n",
    "        loss = criterion(outputs, labels)\n",
    "        running_loss += loss.item()\n",
    "\n",
    "        # Backward pass and optimization\n",
    "        loss.backward()\n",
    "        optimizer.step()  \n",
    "    \n",
    "        # Determine class predictions and track accuracy\n",
    "        _, predicted = torch.max(outputs.data, 1)\n",
    "        total += labels.size(0)\n",
    "        running_correct += (predicted == labels).sum().item()\n",
    "\n",
    "\n",
    "    epoch_accuracy = 100 * running_correct / total\n",
    "    epoch_loss = running_loss / (i + 1)\n",
    "    \n",
    "    test_loss, test_accuracy = evaluate(model, testloader, criterion)\n",
    "    print(f\"Epoch [{epoch + 1}/{max_epoch}], Loss: {epoch_loss:.4f}, Accuracy: {epoch_accuracy:.2f}%, Test Loss: {test_loss:.4f}, Test Accuracy: {test_accuracy:.2f}%\")\n",
    "    \n",
    "    # save for plot\n",
    "    train_losses.append(epoch_loss)\n",
    "    train_accuracies.append(epoch_accuracy)\n",
    "    test_losses.append(test_loss)\n",
    "    test_accuracies.append(test_accuracy)"
   ]
  },
  {
   "cell_type": "code",
   "execution_count": null,
   "id": "cebcb439-88f2-40b6-9a17-4990ad324731",
   "metadata": {},
   "outputs": [],
   "source": []
  },
  {
   "cell_type": "code",
   "execution_count": 9,
   "id": "DkC3_902Lgn-",
   "metadata": {
    "executionInfo": {
     "elapsed": 3,
     "status": "ok",
     "timestamp": 1673091684322,
     "user": {
      "displayName": "Thắng Dương Đình",
      "userId": "02196529682032971345"
     },
     "user_tz": -420
    },
    "id": "DkC3_902Lgn-"
   },
   "outputs": [
    {
     "data": {
      "text/plain": [
       "<matplotlib.legend.Legend at 0x7f7ff32090c0>"
      ]
     },
     "execution_count": 9,
     "metadata": {},
     "output_type": "execute_result"
    },
    {
     "data": {
      "image/png": "[encoded data removed]",
      "text/plain": [
       "<Figure size 640x480 with 1 Axes>"
      ]
     },
     "metadata": {},
     "output_type": "display_data"
    }
   ],
   "source": [
    "import matplotlib.pyplot as plt\n",
    "\n",
    "plt.plot(train_losses, label='train_losses')\n",
    "plt.plot(test_losses, label='test_losses')\n",
    "plt.legend()"
   ]
  },
  {
   "cell_type": "code",
   "execution_count": 10,
   "id": "794f4e81",
   "metadata": {
    "executionInfo": {
     "elapsed": 8,
     "status": "ok",
     "timestamp": 1673092872464,
     "user": {
      "displayName": "Thắng Dương Đình",
      "userId": "02196529682032971345"
     },
     "user_tz": -420
    },
    "id": "794f4e81"
   },
   "outputs": [
    {
     "data": {
      "text/plain": [
       "<matplotlib.legend.Legend at 0x7f7fe6217400>"
      ]
     },
     "execution_count": 10,
     "metadata": {},
     "output_type": "execute_result"
    },
    {
     "data": {
      "image/png": "[encoded data removed]",
      "text/plain": [
       "<Figure size 640x480 with 1 Axes>"
      ]
     },
     "metadata": {},
     "output_type": "display_data"
    }
   ],
   "source": [
    "import matplotlib.pyplot as plt\n",
    "\n",
    "plt.plot(train_accuracies, label='train_accuracy')\n",
    "plt.plot(test_accuracies, label='test_accuracy')\n",
    "plt.legend()"
   ]
  },
  {
   "cell_type": "code",
   "execution_count": null,
   "id": "a2ec7c96-ff05-4863-92e7-c45f2f0e3d03",
   "metadata": {},
   "outputs": [],
   "source": []
  },
  {
   "cell_type": "code",
   "execution_count": null,
   "id": "8c86325e-7b6c-43a6-b315-93e02bcdb264",
   "metadata": {},
   "outputs": [],
   "source": []
  },
  {
   "cell_type": "code",
   "execution_count": 11,
   "id": "d2a401f6-9ed4-4dee-9e95-f65826e2d92d",
   "metadata": {},
   "outputs": [
    {
     "data": {
      "text/plain": [
       "<matplotlib.legend.Legend at 0x7f7f94302050>"
      ]
     },
     "execution_count": 11,
     "metadata": {},
     "output_type": "execute_result"
    }
   ],
   "source": [
    "import matplotlib.pyplot as plt\n",
    "%matplotlib qt\n",
    "\n",
    "plt.plot(train_losses, label='train_losses')\n",
    "plt.plot(test_losses, label='test_losses')\n",
    "plt.legend()"
   ]
  },
  {
   "cell_type": "code",
   "execution_count": 12,
   "id": "b4d1601e-a633-4f04-b476-7288856e1971",
   "metadata": {},
   "outputs": [
    {
     "data": {
      "text/plain": [
       "<matplotlib.legend.Legend at 0x7f7f08397ee0>"
      ]
     },
     "execution_count": 12,
     "metadata": {},
     "output_type": "execute_result"
    }
   ],
   "source": [
    "import matplotlib.pyplot as plt\n",
    "%matplotlib qt\n",
    "\n",
    "plt.plot(train_accuracies, label='train_accuracy')\n",
    "plt.plot(test_accuracies, label='test_accuracy')\n",
    "plt.legend()"
   ]
  },
  {
   "cell_type": "code",
   "execution_count": null,
   "id": "386d038d-d554-4857-ab4b-fe1314e8937c",
   "metadata": {},
   "outputs": [],
   "source": []
  }
  ],
  "metadata": {
    "accelerator": "GPU",
    "colab": {
      "provenance": []
    },
    "gpuClass": "standard",
    "kernelspec": {
      "display_name": "Python 3 (ipykernel)",
      "language": "python",
      "name": "python3"
    },
    "language_info": {
      "codemirror_mode": {
        "name": "ipython",
        "version": 3
      },
      "file_extension": ".py",
      "mimetype": "text/x-python",
      "name": "python",
      "nbconvert_exporter": "python",
      "pygments_lexer": "ipython3",
      "version": "3.10.12"
    }
  },
  "nbformat": 4,
  "nbformat_minor": 5
}
